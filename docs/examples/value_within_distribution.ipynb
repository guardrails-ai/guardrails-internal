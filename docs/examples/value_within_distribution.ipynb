{
 "cells": [
  {
   "cell_type": "markdown",
   "metadata": {},
   "source": [
    "# Check whether a value is similar to a set of other values\n",
    "\n",
    "**Using the SimilarToList validator**\n",
    "\n",
    "This validator validates whether a new value is similar to a set of previously known values. It is useful for checking whether a new value is within a distribution of known values. It supports both integer and string values.\n",
    "\n",
    "For integer values, this validator checks whether the value lies within the specified standard deviations of the mean of the previous values. (Assumes that the previous values are normally distributed.)\n",
    "\n",
    "For string values, this validator checks whether the average semantic similarity between the generated value and the previous values is less than a threshold.\n"
   ]
  },
  {
   "cell_type": "code",
   "execution_count": 5,
   "metadata": {},
   "outputs": [],
   "source": [
    "import guardrails as gd"
   ]
  },
  {
   "cell_type": "code",
   "execution_count": 6,
   "metadata": {},
   "outputs": [],
   "source": [
    "# Create the Guard with the SimilarToList validator\n",
    "from guardrails.validators import SimilarToList\n",
    "\n",
    "guard = gd.Guard.from_string(\n",
    "    validators=[SimilarToList(standard_deviations=2, threshold=0.2, on_fail=\"fix\")],\n",
    "    description=\"testmeout\",\n",
    ")"
   ]
  },
  {
   "cell_type": "markdown",
   "metadata": {},
   "source": [
    "## Test with integer values\n"
   ]
  },
  {
   "cell_type": "code",
   "execution_count": 7,
   "metadata": {},
   "outputs": [
    {
     "name": "stdout",
     "output_type": "stream",
     "text": [
      "3\n"
     ]
    }
   ],
   "source": [
    "# Test with a value that is within the distribution\n",
    "output = guard.parse(\n",
    "    llm_output=3,\n",
    "    metadata={\"prev_values\": [1, 2, 3, 4, 5, 6, 7, 8, 9, 10]},\n",
    ")\n",
    "\n",
    "print(output.validated_output)"
   ]
  },
  {
   "cell_type": "markdown",
   "metadata": {},
   "source": [
    "As 3 is within the distribution of the given prev_values, the validator returns 3 as it is.\n"
   ]
  },
  {
   "cell_type": "code",
   "execution_count": 8,
   "metadata": {},
   "outputs": [
    {
     "name": "stdout",
     "output_type": "stream",
     "text": [
      "None\n"
     ]
    }
   ],
   "source": [
    "# Test with a value that is outside the distribution\n",
    "output = guard.parse(\n",
    "    llm_output=300,\n",
    "    metadata={\"prev_values\": [1, 2, 3, 4, 5, 6, 7, 8, 9, 10]},\n",
    ")\n",
    "\n",
    "print(output.validated_output)"
   ]
  },
  {
   "cell_type": "markdown",
   "metadata": {},
   "source": [
    "As 300 is not within the distribution of the given prev_values, the validator returns None.\n"
   ]
  },
  {
   "cell_type": "markdown",
   "metadata": {},
   "source": [
    "## Test with string values\n"
   ]
  },
  {
   "cell_type": "code",
   "execution_count": 9,
   "metadata": {},
   "outputs": [],
   "source": [
    "# Define embed function\n",
    "# Create an embedding function that uses openAI Ada to embed the text.\n",
    "from typing import List, Union\n",
    "import numpy as np\n",
    "import openai\n",
    "\n",
    "# openai.api_key = \"<Your_OPENAI_API_KEY>\"\n",
    "\n",
    "\n",
    "# Define the embed function\n",
    "def embed_function(text: str) -> np.ndarray:\n",
    "    \"\"\"Embed the text using openAI Ada.\"\"\"\n",
    "    response = openai.Embedding.create(\n",
    "        model=\"text-embedding-ada-002\",\n",
    "        input=text,\n",
    "    )\n",
    "    embeddings = response[\"data\"][0][\"embedding\"]\n",
    "    return np.array(embeddings)"
   ]
  },
  {
   "cell_type": "code",
   "execution_count": 10,
   "metadata": {},
   "outputs": [
    {
     "name": "stdout",
     "output_type": "stream",
     "text": [
      "cisco\n"
     ]
    }
   ],
   "source": [
    "# Test with a value that is similar to prev values\n",
    "# As it is, it will return that value\n",
    "output = guard.parse(\n",
    "    llm_output=\"cisco\",\n",
    "    metadata={\n",
    "        \"prev_values\": [\"broadcom\", \"paypal\"],\n",
    "        \"embed_function\": embed_function,\n",
    "    },\n",
    ")\n",
    "\n",
    "print(output.validated_output)"
   ]
  },
  {
   "cell_type": "code",
   "execution_count": 11,
   "metadata": {},
   "outputs": [
    {
     "name": "stdout",
     "output_type": "stream",
     "text": [
      "None\n"
     ]
    }
   ],
   "source": [
    "# Test with a value that is not similar to prev values\n",
    "# As it is not, it will return None\n",
    "output = guard.parse(\n",
    "    llm_output=\"taj mahal\",\n",
    "    metadata={\n",
    "        \"prev_values\": [\"broadcom\", \"paypal\"],\n",
    "        \"embed_function\": embed_function,\n",
    "    },\n",
    ")\n",
    "\n",
    "print(output.validated_output)"
   ]
  }
 ],
 "metadata": {
  "kernelspec": {
   "display_name": "venv",
   "language": "python",
   "name": "python3"
  },
  "language_info": {
   "codemirror_mode": {
    "name": "ipython",
    "version": 3
   },
   "file_extension": ".py",
   "mimetype": "text/x-python",
   "name": "python",
   "nbconvert_exporter": "python",
   "pygments_lexer": "ipython3",
   "version": "3.11.5"
  },
  "orig_nbformat": 4
 },
 "nbformat": 4,
 "nbformat_minor": 2
}
